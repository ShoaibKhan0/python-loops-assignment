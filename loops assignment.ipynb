{
 "cells": [
  {
   "cell_type": "code",
   "execution_count": 1,
   "id": "4db1c347-0f45-4776-9007-0b6b9d636ae4",
   "metadata": {},
   "outputs": [],
   "source": [
    "#1. Print number from 1 to 5 using a while loop."
   ]
  },
  {
   "cell_type": "code",
   "execution_count": 2,
   "id": "7a597bd8-64e3-4619-a11a-170971cd4364",
   "metadata": {},
   "outputs": [
    {
     "name": "stdout",
     "output_type": "stream",
     "text": [
      "1\n",
      "2\n",
      "3\n",
      "4\n",
      "5\n"
     ]
    }
   ],
   "source": [
    "n = 6\n",
    "i = 1\n",
    "while i < n :\n",
    "    print(i)\n",
    "    i = i + 1\n",
    "    "
   ]
  },
  {
   "cell_type": "code",
   "execution_count": 3,
   "id": "ef20ad75-c4ce-47b0-8b65-9497e892d9e1",
   "metadata": {},
   "outputs": [],
   "source": [
    "#2. Calclate the sum of number from 1 to 10 using a while loop."
   ]
  },
  {
   "cell_type": "code",
   "execution_count": 4,
   "id": "765994f2-8f86-4065-9746-5daf23ef76d9",
   "metadata": {},
   "outputs": [
    {
     "name": "stdin",
     "output_type": "stream",
     "text": [
      "enter a number:  10\n"
     ]
    },
    {
     "name": "stdout",
     "output_type": "stream",
     "text": [
      "The sum is:  55\n"
     ]
    }
   ],
   "source": [
    "n = int(input(\"enter a number: \"))\n",
    "i = 1\n",
    "sum = 0\n",
    "while (i <= n):\n",
    "    sum = sum + i\n",
    "    i = i + 1\n",
    "print(\"The sum is: \", sum)\n",
    "    "
   ]
  },
  {
   "cell_type": "code",
   "execution_count": 5,
   "id": "418bf15e-d063-4514-93d9-35637c8bc4c4",
   "metadata": {},
   "outputs": [],
   "source": [
    "#3. Calclate the factorial of a number using a for loop."
   ]
  },
  {
   "cell_type": "code",
   "execution_count": 6,
   "id": "273d5bf7-f83d-485e-b55d-fed8a834dfe9",
   "metadata": {},
   "outputs": [
    {
     "name": "stdin",
     "output_type": "stream",
     "text": [
      "enter a number:  5\n"
     ]
    },
    {
     "name": "stdout",
     "output_type": "stream",
     "text": [
      "factorial number is: 120\n"
     ]
    }
   ],
   "source": [
    "num = int(input(\"enter a number: \"))\n",
    "fact = 1\n",
    "for i in range(1,num+1) :\n",
    "    fact = fact*i\n",
    "print(\"factorial number is:\" ,fact)\n",
    "  "
   ]
  },
  {
   "cell_type": "code",
   "execution_count": 7,
   "id": "dc9425c5-7c8a-4bdf-812e-458c10a8d82b",
   "metadata": {},
   "outputs": [],
   "source": [
    "#4. Count the number of vowels in a string using a for loop."
   ]
  },
  {
   "cell_type": "code",
   "execution_count": 8,
   "id": "0840d676-c38b-4fba-a3d9-d97ecb574223",
   "metadata": {},
   "outputs": [
    {
     "name": "stdin",
     "output_type": "stream",
     "text": [
      "Enter a string:  Pwskills Is A Best Platform For Learning\n"
     ]
    },
    {
     "name": "stdout",
     "output_type": "stream",
     "text": [
      "Total number of vowels in a string:  10\n"
     ]
    }
   ],
   "source": [
    "sentence = input('Enter a string: ')\n",
    "vowel = [\"A\",\"a\",\"E\",\"e\",\"I\",\"i\",\"O\",\"o\",\"U\",\"u\"]\n",
    "Count = 0\n",
    "for letter in sentence:\n",
    "    if letter in vowel:\n",
    "        Count += 1\n",
    "print(\"Total number of vowels in a string: \",Count)"
   ]
  },
  {
   "cell_type": "code",
   "execution_count": 9,
   "id": "7640963d-ef67-485f-b798-16991ce13552",
   "metadata": {},
   "outputs": [],
   "source": [
    "#5. Print a pattern using nested loop."
   ]
  },
  {
   "cell_type": "code",
   "execution_count": 10,
   "id": "d94f3aee-bd77-4700-9d9a-a06604d6cc3b",
   "metadata": {},
   "outputs": [
    {
     "name": "stdout",
     "output_type": "stream",
     "text": [
      "*\n",
      "**\n",
      "***\n",
      "****\n",
      "*****\n"
     ]
    }
   ],
   "source": [
    "for i in range(5):\n",
    "    for j in range(i + 1):\n",
    "        print(\"*\", end = \"\")\n",
    "    print()"
   ]
  },
  {
   "cell_type": "code",
   "execution_count": 11,
   "id": "c23ca464-019b-4489-a205-f0c79e1599ef",
   "metadata": {},
   "outputs": [],
   "source": [
    "#6. Generate a multiplication table using nested loop."
   ]
  },
  {
   "cell_type": "code",
   "execution_count": 12,
   "id": "6b6e7b35-68cc-43b0-a6c1-811e32703555",
   "metadata": {},
   "outputs": [
    {
     "name": "stdin",
     "output_type": "stream",
     "text": [
      "Enter the number:  17\n"
     ]
    },
    {
     "name": "stdout",
     "output_type": "stream",
     "text": [
      "17 X 1 = 17\n",
      "17 X 2 = 34\n",
      "17 X 3 = 51\n",
      "17 X 4 = 68\n",
      "17 X 5 = 85\n",
      "17 X 6 = 102\n",
      "17 X 7 = 119\n",
      "17 X 8 = 136\n",
      "17 X 9 = 153\n",
      "17 X 10 = 170\n"
     ]
    }
   ],
   "source": [
    "number = int(input(\"Enter the number: \"))\n",
    "for count in range(1,11):\n",
    "    for j in range(11):\n",
    "        product = number * count\n",
    "    print(number, \"X\", count, \"=\", product)\n"
   ]
  },
  {
   "cell_type": "code",
   "execution_count": null,
   "id": "bff65e55-7636-4c4f-8a58-3e74b35a1ed6",
   "metadata": {},
   "outputs": [],
   "source": []
  },
  {
   "cell_type": "code",
   "execution_count": null,
   "id": "bd86c560-e181-4f4e-901b-380d086ea068",
   "metadata": {},
   "outputs": [],
   "source": []
  },
  {
   "cell_type": "code",
   "execution_count": null,
   "id": "d33670c6-b947-47af-bf58-bae5683aed4a",
   "metadata": {},
   "outputs": [],
   "source": []
  }
 ],
 "metadata": {
  "kernelspec": {
   "display_name": "Python 3 (ipykernel)",
   "language": "python",
   "name": "python3"
  },
  "language_info": {
   "codemirror_mode": {
    "name": "ipython",
    "version": 3
   },
   "file_extension": ".py",
   "mimetype": "text/x-python",
   "name": "python",
   "nbconvert_exporter": "python",
   "pygments_lexer": "ipython3",
   "version": "3.10.8"
  }
 },
 "nbformat": 4,
 "nbformat_minor": 5
}
